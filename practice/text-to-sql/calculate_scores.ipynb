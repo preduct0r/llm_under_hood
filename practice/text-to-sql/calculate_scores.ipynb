{
 "cells": [
  {
   "cell_type": "code",
   "execution_count": 3,
   "metadata": {},
   "outputs": [],
   "source": [
    "import json\n",
    "from pathlib import Path"
   ]
  },
  {
   "cell_type": "code",
   "execution_count": 7,
   "metadata": {},
   "outputs": [],
   "source": [
    "ANSWER_DIR = Path(\"/home/den/projects/llm_under_hood/practice/pr1/answers\")"
   ]
  },
  {
   "cell_type": "code",
   "execution_count": 15,
   "metadata": {},
   "outputs": [],
   "source": [
    "def  get_set(x):\n",
    "    if isinstance(x, list):\n",
    "        return set(x)\n",
    "    elif isinstance(x, int):\n",
    "        return set([x])\n",
    "    elif isinstance(x, str):\n",
    "        return set([x])\n",
    "    else:\n",
    "        raise ValueError(f\"Unknown type: {type(x)}\")"
   ]
  },
  {
   "cell_type": "code",
   "execution_count": 18,
   "metadata": {},
   "outputs": [
    {
     "name": "stdout",
     "output_type": "stream",
     "text": [
      "3.json\n",
      "Right: 3, Wrong: 5, Error: 3\n",
      "2.json\n",
      "Right: 3, Wrong: 5, Error: 3\n",
      "1.json\n",
      "Right: 4, Wrong: 5, Error: 2\n"
     ]
    }
   ],
   "source": [
    "right, wrong, error = 0, 0, 0\n",
    "for answer_file in ANSWER_DIR.glob(\"*.json\"):\n",
    "    answer_data = json.load(open(answer_file))\n",
    "    for item in answer_data:\n",
    "        if \"ground_truth\" in item:\n",
    "            if get_set(item[\"answer\"]) == get_set(item[\"ground_truth\"]):\n",
    "                right += 1\n",
    "            else:\n",
    "                wrong += 1\n",
    "        else:\n",
    "            error += 1\n",
    "\n",
    "    print(answer_file.name)\n",
    "    print(f\"Right: {right}, Wrong: {wrong}, Error: {error}\")\n",
    "    right, wrong, error = 0, 0, 0"
   ]
  },
  {
   "cell_type": "markdown",
   "metadata": {},
   "source": []
  },
  {
   "cell_type": "code",
   "execution_count": null,
   "metadata": {},
   "outputs": [],
   "source": []
  }
 ],
 "metadata": {
  "kernelspec": {
   "display_name": "llm_course",
   "language": "python",
   "name": "python3"
  },
  "language_info": {
   "codemirror_mode": {
    "name": "ipython",
    "version": 3
   },
   "file_extension": ".py",
   "mimetype": "text/x-python",
   "name": "python",
   "nbconvert_exporter": "python",
   "pygments_lexer": "ipython3",
   "version": "3.11.0"
  }
 },
 "nbformat": 4,
 "nbformat_minor": 2
}
